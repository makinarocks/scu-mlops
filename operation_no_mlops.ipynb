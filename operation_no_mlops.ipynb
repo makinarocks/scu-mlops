{
 "cells": [
  {
   "cell_type": "code",
   "execution_count": 1,
   "id": "f5576695-d264-4551-bae5-900cc06dffb1",
   "metadata": {
    "canvas": {
     "comments": [],
     "componentType": "CodeCell",
     "copiedOriginId": null,
     "headerColor": "inherit",
     "id": "707b4b41-36e5-46ef-ae08-bae78a340e9f",
     "isComponent": false,
     "name": "",
     "parents": []
    },
    "tags": []
   },
   "outputs": [
    {
     "name": "stdout",
     "output_type": "stream",
     "text": [
      "  Successfully uninstalled scikit-learn-1.1.2\n",
      "Successfully installed scikit-learn-1.1.2\n"
     ]
    }
   ],
   "source": [
    "!pip uninstall scikit-learn -y  | egrep installed\n",
    "!pip install scikit-learn ipympl | egrep installed"
   ]
  },
  {
   "cell_type": "code",
   "execution_count": 2,
   "id": "4974cf29-af3f-4a5f-9214-8393af3553a7",
   "metadata": {
    "canvas": {
     "comments": [],
     "componentType": "CodeCell",
     "copiedOriginId": null,
     "headerColor": "inherit",
     "id": "2d4ce621-9d2f-4421-ac39-e0cba7c8a79e",
     "isComponent": false,
     "name": "",
     "parents": []
    },
    "tags": []
   },
   "outputs": [],
   "source": [
    "%matplotlib widget\n",
    "import ipywidgets as widgets\n",
    "import numpy as np\n",
    "import pandas as pd\n",
    "import matplotlib.pyplot as plt\n",
    "from IPython.display import display, FileLink, HTML\n",
    "import subprocess\n",
    "import sys\n",
    "import pickle\n",
    "import tempfile\n",
    "import os\n",
    "import base64\n",
    "import io"
   ]
  },
  {
   "cell_type": "code",
   "execution_count": 3,
   "id": "b88cbab1-288a-4bd5-90f8-6b731b4a2c45",
   "metadata": {
    "canvas": {
     "comments": [],
     "componentType": "CodeCell",
     "copiedOriginId": null,
     "headerColor": "inherit",
     "id": "0b9a7b72-0b3b-4a82-aa7f-c63683eaf99a",
     "isComponent": false,
     "name": "",
     "parents": []
    }
   },
   "outputs": [
    {
     "data": {
      "application/vnd.jupyter.widget-view+json": {
       "model_id": "fe7fc291f8e9435ea3c1bac6f7e5cc65",
       "version_major": 2,
       "version_minor": 0
      },
      "text/plain": [
       "HBox(children=(Button(description='Generate Data', style=ButtonStyle()), IntText(value=1, description='# of da…"
      ]
     },
     "metadata": {},
     "output_type": "display_data"
    },
    {
     "data": {
      "application/vnd.jupyter.widget-view+json": {
       "model_id": "ac5ecea58ab7461ca978ac22f0761a89",
       "version_major": 2,
       "version_minor": 0
      },
      "text/plain": [
       "Button(description='Reset Data', style=ButtonStyle())"
      ]
     },
     "metadata": {},
     "output_type": "display_data"
    },
    {
     "data": {
      "application/vnd.jupyter.widget-view+json": {
       "model_id": "491aa525413b49c9993f09548c9f40cd",
       "version_major": 2,
       "version_minor": 0
      },
      "text/plain": [
       "HBox(children=(Button(description='Download Data', style=ButtonStyle()), Label(value='')))"
      ]
     },
     "metadata": {},
     "output_type": "display_data"
    },
    {
     "data": {
      "application/vnd.jupyter.widget-view+json": {
       "model_id": "78e173a503c0458e875dbc0f82f2ab51",
       "version_major": 2,
       "version_minor": 0
      },
      "text/plain": [
       "HBox(children=(Button(description='Inference', style=ButtonStyle()), Label(value='')))"
      ]
     },
     "metadata": {},
     "output_type": "display_data"
    },
    {
     "data": {
      "application/vnd.jupyter.widget-view+json": {
       "model_id": "f0ebd55918e341b3a532b5299e24b324",
       "version_major": 2,
       "version_minor": 0
      },
      "text/plain": [
       "FileUpload(value={}, description='Model Upload')"
      ]
     },
     "metadata": {},
     "output_type": "display_data"
    },
    {
     "data": {
      "application/vnd.jupyter.widget-view+json": {
       "model_id": "c0c9fd8d0bdb459988ffc278e5e0fa2d",
       "version_major": 2,
       "version_minor": 0
      },
      "text/plain": [
       "Output()"
      ]
     },
     "metadata": {},
     "output_type": "display_data"
    },
    {
     "data": {
      "application/vnd.jupyter.widget-view+json": {
       "model_id": "7dae92359c9243b3baa66824948d7a87",
       "version_major": 2,
       "version_minor": 0
      },
      "image/png": "[encoded data removed]",
      "text/html": [
       "\n",
       "            <div style=\"display: inline-block;\">\n",
       "                <div class=\"jupyter-widgets widget-label\" style=\"text-align: center;\">\n",
       "                    Figure\n",
       "                </div>\n",
       "                <img src='data:image/png;base64,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' width=640.0/>\n",
       "            </div>\n",
       "        "
      ],
      "text/plain": [
       "Canvas(toolbar=Toolbar(toolitems=[('Home', 'Reset original view', 'home', 'home'), ('Back', 'Back to previous …"
      ]
     },
     "metadata": {},
     "output_type": "display_data"
    }
   ],
   "source": [
    "class DemoData:\n",
    "    \n",
    "    def __init__(self):\n",
    "        self.data = []\n",
    "        self.model = widgets.FileUpload(description=\"Model Upload\", multiple=False)\n",
    "        self.btn_gen = widgets.Button(description=\"Generate Data\")\n",
    "        self.btn_gen.on_click(self.generate_data)\n",
    "        self.btn_reset = widgets.Button(description=\"Reset Data\")\n",
    "        self.btn_reset.on_click(self.reset_data)\n",
    "        self.btn_download = widgets.Button(description=\"Download Data\")\n",
    "        self.btn_download.on_click(self.download_data)\n",
    "        self.text_download = widgets.Label(value=\"\")\n",
    "        self.btn_inference = widgets.Button(description=\"Inference\")\n",
    "        self.btn_inference.on_click(self.inference)\n",
    "        self.text_inference = widgets.Label(value=\"\")\n",
    "        self.num_data = widgets.IntText(value=1, description=\"# of data to generate\", disabled=False)\n",
    "        self.slope = 3\n",
    "        self.intercept = 2\n",
    "        self.stddev = 100\n",
    "        self.fig = plt.figure()\n",
    "        self.ax = self.fig.add_subplot()\n",
    "        self.ax.set_title(\"Data\")\n",
    "        self.download_output = widgets.Output()\n",
    "        display(widgets.HBox(children=(self.btn_gen, self.num_data)))\n",
    "        display(self.btn_reset)\n",
    "        display(widgets.HBox(children=(self.btn_download, self.text_download)))\n",
    "        display(widgets.HBox(children=(self.btn_inference, self.text_inference)))\n",
    "        display(self.model)\n",
    "        display(self.download_output)\n",
    "        \n",
    "    def generate_data(self, btn):\n",
    "        #self.output.clear_output()\n",
    "        to_append = [\n",
    "            {\n",
    "                \"x\": len(self.data) + x,\n",
    "                \"y\": (len(self.data) + x) * self.slope + self.intercept + self.stddev * np.random.randn(),\n",
    "            } for x in range(self.num_data.value)\n",
    "        ]\n",
    "        self.data += to_append\n",
    "        self.ax.clear()\n",
    "        df = pd.DataFrame(self.data)\n",
    "        df.plot(y=\"y\", x=\"x\", ax=self.ax, marker=\"x\")\n",
    "        self.fig.canvas.draw()\n",
    "        \n",
    "    def reset_data(self, btn):\n",
    "        self.data = []\n",
    "        self.ax.clear()\n",
    "        self.fig.canvas.draw()\n",
    "        \n",
    "    def download_data(self, btn):\n",
    "        if not self.data:\n",
    "            self.text_download.value = \"No data\"\n",
    "            return\n",
    "        with io.BytesIO() as buf:\n",
    "            df = pd.DataFrame(self.data)\n",
    "            df.to_csv(buf)\n",
    "            encoded = base64.b64encode(buf.getvalue())\n",
    "        payload = encoded.decode()\n",
    "        with self.download_output:\n",
    "            self.download_output.clear_output()\n",
    "            display(HTML(f\"\"\"\n",
    "<html>\n",
    "<body>\n",
    "<a id=\"asdf\" download=\"data_dumped\" href=\"data:text/csv;base64,{payload}\" download>\n",
    "</a>\n",
    "\n",
    "<script>\n",
    "(function download() {{\n",
    "document.getElementById('asdf').click();\n",
    "}})()\n",
    "</script>\n",
    "\n",
    "</body>\n",
    "</html>\n",
    "\"\"\"))\n",
    "        \n",
    "    def inference(self, btn):\n",
    "        if not self.data:\n",
    "            self.text_inference.value = \"No data\"\n",
    "            return\n",
    "        if not self.model.value:\n",
    "            self.text_inference.value = \"No model\"\n",
    "            return\n",
    "        df = pd.DataFrame(self.data)\n",
    "        regr = pickle.loads(next(iter(self.model.value.values()))[\"content\"])\n",
    "        self.text_inference.value = f\"slope: {regr.coef_[0]:.2f}, intercept: {regr.intercept_:.2f}\"\n",
    "        df[\"model\"] = regr.predict(df[\"x\"].values[:, None])\n",
    "        self.ax.clear()\n",
    "        df.plot(y=\"y\", x=\"x\", ax=self.ax)\n",
    "        df.plot(y=\"model\", x=\"x\", ax=self.ax)\n",
    "        self.fig.canvas.draw()\n",
    "        \n",
    "        \n",
    "demo = DemoData()"
   ]
  },
  {
   "cell_type": "code",
   "execution_count": null,
   "id": "699f5fac-c411-4c17-93ab-69d4ee52573e",
   "metadata": {
    "canvas": {
     "comments": [],
     "componentType": "CodeCell",
     "copiedOriginId": null,
     "headerColor": "inherit",
     "id": "1b4e83af-9d71-444c-8501-337d18b20e5c",
     "isComponent": false,
     "name": "",
     "parents": []
    }
   },
   "outputs": [],
   "source": []
  }
 ],
 "metadata": {
  "canvas": {
   "colorPalette": [
    "inherit",
    "inherit",
    "inherit",
    "inherit",
    "inherit",
    "inherit",
    "inherit",
    "inherit",
    "inherit",
    "inherit"
   ],
   "parameters": [],
   "version": "1.0"
  },
  "kernelspec": {
   "display_name": "Python 3.9 (MRX-Link)",
   "language": "python",
   "name": "python3"
  },
  "language_info": {
   "codemirror_mode": {
    "name": "ipython",
    "version": 3
   },
   "file_extension": ".py",
   "mimetype": "text/x-python",
   "name": "python",
   "nbconvert_exporter": "python",
   "pygments_lexer": "ipython3",
   "version": "3.9.13"
  }
 },
 "nbformat": 4,
 "nbformat_minor": 5
}
