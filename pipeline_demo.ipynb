{
 "cells": [
  {
   "cell_type": "code",
   "execution_count": null,
   "id": "330a9ad3-3f27-4b91-9a0a-20104f9710bd",
   "metadata": {
    "canvas": {
     "comments": [],
     "componentType": "CodeCell",
     "copiedOriginId": null,
     "headerColor": "inherit",
     "id": "8d2bb6c2-6535-42ba-8b55-faab88f3b762",
     "isComponent": false,
     "name": "",
     "parents": []
    },
    "tags": []
   },
   "outputs": [],
   "source": [
    "!pip uninstall scikit-learn -y  | egrep installed\n",
    "!pip install scikit-learn ipympl | egrep installed"
   ]
  },
  {
   "cell_type": "code",
   "execution_count": null,
   "id": "6c735dec-3d29-47d2-b1b3-64a2973ef47d",
   "metadata": {
    "canvas": {
     "comments": [],
     "componentType": "CodeCell",
     "copiedOriginId": null,
     "headerColor": "inherit",
     "id": "3986723a-2795-4ba4-8b79-3b07c0588ab9",
     "isComponent": true,
     "name": "Load data",
     "parents": []
    },
    "tags": []
   },
   "outputs": [],
   "source": [
    "import pandas as pd\n",
    "dat = pd.read_csv(datapath, index_col=0)"
   ]
  },
  {
   "cell_type": "code",
   "execution_count": null,
   "id": "8989004c-eb9b-44c6-b5dd-2f9c79dedbf0",
   "metadata": {
    "canvas": {
     "comments": [],
     "componentType": "CodeCell",
     "copiedOriginId": null,
     "headerColor": "inherit",
     "id": "ca733b48-7a98-43ef-94a3-6d807448719c",
     "isComponent": true,
     "name": "Create model",
     "parents": []
    },
    "tags": []
   },
   "outputs": [],
   "source": [
    "from sklearn.linear_model import LinearRegression\n",
    "regr = LinearRegression()"
   ]
  },
  {
   "cell_type": "code",
   "execution_count": null,
   "id": "363bb724-ea55-4126-b1e2-9f2630834516",
   "metadata": {
    "canvas": {
     "comments": [],
     "componentType": "CodeCell",
     "copiedOriginId": null,
     "headerColor": "inherit",
     "id": "4e09af3b-bc80-468e-9a2e-67df70019ec9",
     "isComponent": true,
     "name": "Fit model",
     "parents": [
      {
       "id": "ca733b48-7a98-43ef-94a3-6d807448719c",
       "name": "Create model"
      },
      {
       "id": "3986723a-2795-4ba4-8b79-3b07c0588ab9",
       "name": "Load data"
      }
     ]
    },
    "tags": []
   },
   "outputs": [],
   "source": [
    "regr.fit(dat[\"x\"].values[:, None], dat[\"y\"])"
   ]
  },
  {
   "cell_type": "code",
   "execution_count": 1,
   "id": "ad91a36e-bb48-4d85-a696-edb8b0a04bd0",
   "metadata": {
    "canvas": {
     "comments": [],
     "componentType": "CodeCell",
     "copiedOriginId": null,
     "headerColor": "inherit",
     "id": "e1ca0e8f-d4d3-4153-8537-f90d076aecc8",
     "isComponent": true,
     "name": "Save model",
     "parents": [
      {
       "id": "4e09af3b-bc80-468e-9a2e-67df70019ec9",
       "name": "Fit model"
      }
     ]
    },
    "tags": []
   },
   "outputs": [],
   "source": [
    "import pickle\n",
    "with open(modelpath, \"wb\") as fp:\n",
    "    pickle.dump(regr, fp)"
   ]
  }
 ],
 "metadata": {
  "canvas": {
   "colorPalette": [
    "inherit",
    "inherit",
    "inherit",
    "inherit",
    "inherit",
    "inherit",
    "inherit",
    "inherit",
    "inherit",
    "inherit"
   ],
   "parameters": [
    {
     "name": "modelpath",
     "type": "str",
     "value": "\"model_1.pkl\""
    },
    {
     "name": "datapath",
     "type": "str",
     "value": "\"data_dumped (3).csv\""
    }
   ],
   "version": "1.0"
  },
  "kernelspec": {
   "display_name": "Python 3.9 (MRX-Link)",
   "language": "python",
   "name": "python3"
  },
  "language_info": {
   "codemirror_mode": {
    "name": "ipython",
    "version": 3
   },
   "file_extension": ".py",
   "mimetype": "text/x-python",
   "name": "python",
   "nbconvert_exporter": "python",
   "pygments_lexer": "ipython3",
   "version": "3.9.13"
  }
 },
 "nbformat": 4,
 "nbformat_minor": 5
}
